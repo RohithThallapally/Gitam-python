{
 "cells": [
  {
   "cell_type": "markdown",
   "metadata": {},
   "source": [
    "### 1. [1,4,5,6,9] - 14569"
   ]
  },
  {
   "cell_type": "code",
   "execution_count": 1,
   "metadata": {},
   "outputs": [
    {
     "data": {
      "text/plain": [
       "14569"
      ]
     },
     "execution_count": 1,
     "metadata": {},
     "output_type": "execute_result"
    }
   ],
   "source": [
    "def fun(li):\n",
    "    s=0\n",
    "    for i in range(len(li)):\n",
    "        s=(s+li[i])*10\n",
    "    return s//10\n",
    "li=[1,4,5,6,9]\n",
    "fun(li)    "
   ]
  },
  {
   "cell_type": "markdown",
   "metadata": {},
   "source": [
    "### 2. [1,4,5,6,9]  - 46(Consider only even numbers from list)"
   ]
  },
  {
   "cell_type": "code",
   "execution_count": 2,
   "metadata": {},
   "outputs": [
    {
     "data": {
      "text/plain": [
       "46"
      ]
     },
     "execution_count": 2,
     "metadata": {},
     "output_type": "execute_result"
    }
   ],
   "source": [
    "def fun1(li):\n",
    "    s=0\n",
    "    for i in range(len(li)):\n",
    "        if li[i]%2==0:\n",
    "            s=(s+li[i])*10\n",
    "    return s//10\n",
    "li=[1,4,5,6,9]\n",
    "fun1(li)"
   ]
  },
  {
   "cell_type": "markdown",
   "metadata": {},
   "source": [
    "### 3. [1,2,3,4,5] - [1,4,3,16,5] (Consider only even number and square of it)"
   ]
  },
  {
   "cell_type": "code",
   "execution_count": 9,
   "metadata": {},
   "outputs": [
    {
     "data": {
      "text/plain": [
       "[1, 4, 3, 16, 5]"
      ]
     },
     "execution_count": 9,
     "metadata": {},
     "output_type": "execute_result"
    }
   ],
   "source": [
    "def fun2(li):\n",
    "    for i in range(len(li)):\n",
    "        if li[i]%2==0:\n",
    "            li[i]=li[i]*li[i]\n",
    "    return li\n",
    "li=[1,2,3,4,5]\n",
    "fun2(li)"
   ]
  },
  {
   "cell_type": "markdown",
   "metadata": {},
   "source": [
    "### 4. [15,19,12,16,4] - [15,34,31,28,4] (Need to add previous number to current number)"
   ]
  },
  {
   "cell_type": "code",
   "execution_count": 11,
   "metadata": {},
   "outputs": [
    {
     "data": {
      "text/plain": [
       "[15, 34, 31, 28, 4]"
      ]
     },
     "execution_count": 11,
     "metadata": {},
     "output_type": "execute_result"
    }
   ],
   "source": [
    "def fun3(li):\n",
    "    l2=[]\n",
    "    for x in range(len(li)):\n",
    "        if x==0 or x==len(li)-1:\n",
    "            l2.append(li[x])\n",
    "        else:\n",
    "            l2.append(li[x-1]+li[x])\n",
    "    return l2\n",
    "li=[15,19,12,16,4]\n",
    "fun3(li)"
   ]
  },
  {
   "cell_type": "code",
   "execution_count": null,
   "metadata": {},
   "outputs": [],
   "source": []
  }
 ],
 "metadata": {
  "kernelspec": {
   "display_name": "Python 3",
   "language": "python",
   "name": "python3"
  },
  "language_info": {
   "codemirror_mode": {
    "name": "ipython",
    "version": 3
   },
   "file_extension": ".py",
   "mimetype": "text/x-python",
   "name": "python",
   "nbconvert_exporter": "python",
   "pygments_lexer": "ipython3",
   "version": "3.7.3"
  }
 },
 "nbformat": 4,
 "nbformat_minor": 2
}
