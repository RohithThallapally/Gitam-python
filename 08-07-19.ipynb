{
 "cells": [
  {
   "cell_type": "code",
   "execution_count": 6,
   "metadata": {},
   "outputs": [
    {
     "name": "stdout",
     "output_type": "stream",
     "text": [
      "1 2 3 4 6 12 "
     ]
    }
   ],
   "source": [
    "# find the factors of a given number\n",
    "# 12 --> 1 2 3 4 6 12\n",
    "def factorsList(n):\n",
    "    for i in range(1,n+1):\n",
    "        if n % i == 0:\n",
    "            print(i,end=\" \")\n",
    "    return\n",
    "factorsList(12)"
   ]
  },
  {
   "cell_type": "code",
   "execution_count": 4,
   "metadata": {},
   "outputs": [
    {
     "data": {
      "text/plain": [
       "True"
      ]
     },
     "execution_count": 4,
     "metadata": {},
     "output_type": "execute_result"
    }
   ],
   "source": [
    "# given number is prime or not\n",
    "def isPrime(n):\n",
    "    flag = True\n",
    "    for i in range (2,n//2+1):\n",
    "        if n % i == 0:\n",
    "            flag = False\n",
    "            return flag\n",
    "    return flag\n",
    "isPrime(11)"
   ]
  },
  {
   "cell_type": "code",
   "execution_count": 5,
   "metadata": {},
   "outputs": [
    {
     "data": {
      "text/plain": [
       "4"
      ]
     },
     "execution_count": 5,
     "metadata": {},
     "output_type": "execute_result"
    }
   ],
   "source": [
    "# function to find prime numbers count from 1 to N\n",
    "# 10 -- 4(2,3,5,7)\n",
    "def primeCount(n):\n",
    "    cnt = 0\n",
    "    for a in range(2,n+1):\n",
    "        k = 0\n",
    "        for i in range(2,a//2+1):\n",
    "            if a % i == 0:\n",
    "                k = k + 1\n",
    "            if(k<=0):\n",
    "               cnt = cnt + 1\n",
    "    return cnt\n",
    "primeCount(10)\n"
   ]
  },
  {
   "cell_type": "code",
   "execution_count": 4,
   "metadata": {},
   "outputs": [
    {
     "name": "stdout",
     "output_type": "stream",
     "text": [
      "No\n",
      "Yes\n"
     ]
    }
   ],
   "source": [
    "# Individual digit factorial sum is same as original number\n",
    "# Example :-\n",
    "# 145 -- YES (5!+4!+1!=145)\n",
    "# 123 -- NO (3!+2!+1!=9)\n",
    "def factorial(n):\n",
    "    fact=1\n",
    "    for i in range(2,n+1):\n",
    "        fact *=i\n",
    "    return fact\n",
    "def digitFactsum(n):\n",
    "    sum=0\n",
    "    buffer=n\n",
    "    while n!=0:\n",
    "        r=n%10\n",
    "        sum+=factorial(r)\n",
    "        n=n//10\n",
    "    if sum==buffer:\n",
    "        return \"Yes\"\n",
    "    else:\n",
    "        return \"No\"\n",
    "    return\n",
    "print(digitFactsum(123))\n",
    "print(digitFactsum(145))"
   ]
  },
  {
   "cell_type": "code",
   "execution_count": 12,
   "metadata": {},
   "outputs": [
    {
     "name": "stdout",
     "output_type": "stream",
     "text": [
      "Enter starting range:11\n",
      "Enter ending range:100\n",
      "11 22 33 44 55 66 77 88 99 "
     ]
    }
   ],
   "source": [
    "#function to return the count of palindrome number two limits\n",
    "def isPalindrome(n):\n",
    "    rev = 0\n",
    "    temp = n\n",
    "    while n > 0 : \n",
    "        r = n % 10\n",
    "        rev = rev * 10 + r\n",
    "        n //= 10\n",
    "    if rev == temp:\n",
    "        print(rev,end=\" \")\n",
    "def Range(a,b):\n",
    "    for i in range(a,b+1,1):\n",
    "        isPalindrome(i)\n",
    "def main():\n",
    "    a= int(input(\"Enter starting range:\"))\n",
    "    b= int(input(\"Enter ending range:\"))\n",
    "    Range(a,b)\n",
    "\n",
    "if __name__ == \"__main__\":\n",
    "    main()\n"
   ]
  },
  {
   "cell_type": "code",
   "execution_count": 14,
   "metadata": {},
   "outputs": [
    {
     "name": "stdout",
     "output_type": "stream",
     "text": [
      "6 \n",
      "6 28 496 8128 \n"
     ]
    }
   ],
   "source": [
    "# Function to generate the perfect numbers in a given range\n",
    "# Perfect number: Sum of all its factors same as original number\n",
    "def factorsList(n):\n",
    "    sum=0\n",
    "    for i in range(1,n//2+1):\n",
    "        if n%i==0:\n",
    "            sum=sum+i\n",
    "    return sum\n",
    "def isPerfect(n):\n",
    "    if factorsList(n)==n:\n",
    "        return True\n",
    "    return False\n",
    "def generatePerfect(lb,ub):\n",
    "    for x in range(lb,ub+1):\n",
    "        if isPerfect(x):\n",
    "            print(x,end=\" \")\n",
    "    print()\n",
    "    return\n",
    "generatePerfect(1,10)\n",
    "generatePerfect(1,10000)"
   ]
  },
  {
   "cell_type": "markdown",
   "metadata": {},
   "source": [
    "## Programming in Python (strings)\n",
    "- strings\n",
    "- string slicings\n",
    "- fundamental programming with string in python"
   ]
  },
  {
   "cell_type": "code",
   "execution_count": 2,
   "metadata": {},
   "outputs": [
    {
     "name": "stdout",
     "output_type": "stream",
     "text": [
      "P\n",
      "y\n",
      "n\n",
      "n\n"
     ]
    }
   ],
   "source": [
    "s='Python'\n",
    "print(s[0])\n",
    "print(s[1])\n",
    "print(s[5])\n",
    "print(s[len(s)-1])"
   ]
  },
  {
   "cell_type": "code",
   "execution_count": 3,
   "metadata": {},
   "outputs": [
    {
     "name": "stdout",
     "output_type": "stream",
     "text": [
      "n\n",
      "o\n",
      "Py\n",
      "Py\n",
      "hon\n",
      "thon\n"
     ]
    }
   ],
   "source": [
    "s='Python'\n",
    "print(s[-1])\n",
    "print(s[-2])\n",
    "print(s[0:2])\n",
    "print(s[:2])\n",
    "print(s[-3:])\n",
    "print(s[2:])"
   ]
  },
  {
   "cell_type": "code",
   "execution_count": 5,
   "metadata": {},
   "outputs": [
    {
     "name": "stdout",
     "output_type": "stream",
     "text": [
      "ytho\n",
      "h\n",
      "nohtyP\n",
      "no\n",
      "Pto\n",
      "Ph\n"
     ]
    }
   ],
   "source": [
    "s1='Python'\n",
    "print(s1[1:-1]) # Printing all characters except first and last\n",
    "print(s1[len(s1)//2]) # Print the middle character of the string\n",
    "print(s1[-1::-1]) # Reverse of the string\n",
    "print(s1[-1:-3:-1]) # Access the last two characters in reverse order\n",
    "# Access the alternate characters\n",
    "print(s1[::2]) # Two characters\n",
    "print(s1[::3]) # Three characters"
   ]
  },
  {
   "cell_type": "code",
   "execution_count": 6,
   "metadata": {},
   "outputs": [
    {
     "data": {
      "text/plain": [
       "'gnimmargorP'"
      ]
     },
     "execution_count": 6,
     "metadata": {},
     "output_type": "execute_result"
    }
   ],
   "source": [
    "def reverseString (str):\n",
    "    return str[-1::-1]          # :: --> INDICATES THE SLICING OPTION\n",
    "reverseString(\"Programming\")"
   ]
  },
  {
   "cell_type": "code",
   "execution_count": 7,
   "metadata": {},
   "outputs": [
    {
     "name": "stdout",
     "output_type": "stream",
     "text": [
      "False\n",
      "True\n"
     ]
    }
   ],
   "source": [
    "def isPalindrome(str):\n",
    "    if str == str[::-1]:\n",
    "        return True\n",
    "    else :\n",
    "        return False\n",
    "print(isPalindrome(\"Python\"))\n",
    "print(isPalindrome(\"ganag\"))\n"
   ]
  },
  {
   "cell_type": "code",
   "execution_count": 8,
   "metadata": {},
   "outputs": [
    {
     "name": "stdout",
     "output_type": "stream",
     "text": [
      "PT"
     ]
    }
   ],
   "source": [
    "# Ascii\n",
    "# A-Z 65-90\n",
    "# a-z 97-122\n",
    "# 0-9 48-57\n",
    "# space 32\n",
    "def printUpper(x):\n",
    "    for i in range(len(x)):\n",
    "        if ord(x[i]) >=65 and ord(x[i])<=90:\n",
    "            print(x[i],end=\"\")\n",
    "    return\n",
    "printUpper(\"PyThon\")"
   ]
  },
  {
   "cell_type": "code",
   "execution_count": 11,
   "metadata": {},
   "outputs": [
    {
     "data": {
      "text/plain": [
       "'programming'"
      ]
     },
     "execution_count": 11,
     "metadata": {},
     "output_type": "execute_result"
    }
   ],
   "source": [
    "# function to print \"samecount\" if the count of\n",
    "# upper and lower case is same\n",
    "# print \"programming \"\n",
    "def findcount(str):\n",
    "    cntUpper=0\n",
    "    cntLower=0\n",
    "    for x in range(len(str)):\n",
    "        if ord(str[x])>=65 and ord(str[x])<90:\n",
    "            cntUpper=cntUpper+1\n",
    "        elif ord(str[x])>=97 and ord(str[x])<=122:\n",
    "            cntLower=cntLower+1\n",
    "    if cntUpper==cntLower:\n",
    "        return \"Samecount\"\n",
    "    else:\n",
    "        return \"programming\"\n",
    "    return\n",
    "findcount('PyThOn')\n",
    "findcount('PYTHon')"
   ]
  },
  {
   "cell_type": "code",
   "execution_count": 12,
   "metadata": {},
   "outputs": [
    {
     "data": {
      "text/plain": [
       "26"
      ]
     },
     "execution_count": 12,
     "metadata": {},
     "output_type": "execute_result"
    }
   ],
   "source": [
    "# function to return the sum of digits in a given string\n",
    "# Example:\n",
    "# Input : Appli1cat8ion89\n",
    "# Output: 26(1+8+8+9)\n",
    "\n",
    "def sumofDigits(str):\n",
    "    sum=0\n",
    "    for x in range(len(str)):\n",
    "        if ord(str[x])>= 48 and ord(str[x]) <=57:\n",
    "            sum=sum+(ord(str[x])-48)\n",
    "    return sum\n",
    "sumofDigits('Appli1cat8ion89')\n"
   ]
  },
  {
   "cell_type": "code",
   "execution_count": 14,
   "metadata": {},
   "outputs": [
    {
     "data": {
      "text/plain": [
       "16"
      ]
     },
     "execution_count": 14,
     "metadata": {},
     "output_type": "execute_result"
    }
   ],
   "source": [
    "# Input: Appli1cat8ion89\n",
    "# Output: 16(8+8)\n",
    "def sumofDigits(str):\n",
    "    sum=0\n",
    "    for x in range(len(str)):\n",
    "        if ord(str[x])>= 48 and ord(str[x]) <=57:\n",
    "            if (ord(str[x])-48)%2==0:\n",
    "                sum=sum+(ord(str[x])-48)\n",
    "    return sum\n",
    "sumofDigits('Appli1cat8ion89')\n"
   ]
  },
  {
   "cell_type": "code",
   "execution_count": 1,
   "metadata": {},
   "outputs": [],
   "source": [
    "# Function to print the specific word in upper case\n",
    "# Example:\n",
    "# Input: Python Made Easy\n",
    "# Output:MADE\n",
    "# Input:Learn Python Programming\n",
    "# Output:PYTHON\n",
    "def wordUpperCase(s):\n",
    "    spaceCnt = 0\n",
    "    for x in range(len(s)):\n",
    "        if ord(s[x])==32:\n",
    "            spaceCnt += 1 #spaceCnt = spaceCnt + 1\n",
    "    if spaceCnt == 1:\n",
    "        if ord(s[x])>=65 and ord(s[x])<=90:\n",
    "            print(s[x],end=\"\")\n",
    "        elif ord(s[x])>=97 and ord(s[x]) <=122:\n",
    "            print(chr(ord(s[x])-32),end=\"\")\n",
    "    if spaceCnt ==2:\n",
    "        return\n",
    "wordUpperCase(\"Python Made Easy\")\n"
   ]
  },
  {
   "cell_type": "code",
   "execution_count": null,
   "metadata": {},
   "outputs": [],
   "source": []
  },
  {
   "cell_type": "code",
   "execution_count": null,
   "metadata": {},
   "outputs": [],
   "source": []
  }
 ],
 "metadata": {
  "kernelspec": {
   "display_name": "Python 3",
   "language": "python",
   "name": "python3"
  },
  "language_info": {
   "codemirror_mode": {
    "name": "ipython",
    "version": 3
   },
   "file_extension": ".py",
   "mimetype": "text/x-python",
   "name": "python",
   "nbconvert_exporter": "python",
   "pygments_lexer": "ipython3",
   "version": "3.7.3"
  }
 },
 "nbformat": 4,
 "nbformat_minor": 2
}
