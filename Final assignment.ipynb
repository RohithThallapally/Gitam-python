{
 "cells": [
  {
   "cell_type": "markdown",
   "metadata": {},
   "source": [
    "### 3. Write a python programming to print the large digit from given number\n",
    "Example:-\n",
    "\n",
    "Test cases:- Input:- 195263 Output:- 9\n",
    "\n",
    "Test cases:- Input:- 36372 Output:- 7\n",
    "\n"
   ]
  },
  {
   "cell_type": "code",
   "execution_count": 1,
   "metadata": {},
   "outputs": [
    {
     "name": "stdout",
     "output_type": "stream",
     "text": [
      "9\n",
      "7\n"
     ]
    }
   ],
   "source": [
    "# Read a number -- 19528\n",
    "# Print the large digit print the  number\n",
    "def printLarge(n):\n",
    "    # Program to achieve the given task\n",
    "    large = 0\n",
    "    while n > 0:\n",
    "        r = n % 10\n",
    "        if r > large:\n",
    "            large = r\n",
    "        n //= 10\n",
    "    print(large)\n",
    "printLarge(195263)\n",
    "printLarge(36372)"
   ]
  },
  {
   "cell_type": "markdown",
   "metadata": {},
   "source": [
    "### 4. Write a python programming to print the Palindrome count between two limits\n",
    "Example:-\n",
    "\n",
    "Test cases:- Input:- 1 10 Output:- 9\n",
    "\n",
    "Test cases:- Input:- 11 100 Output:- 9"
   ]
  },
  {
   "cell_type": "code",
   "execution_count": 2,
   "metadata": {},
   "outputs": [
    {
     "name": "stdout",
     "output_type": "stream",
     "text": [
      "Count =  9\n",
      "Count =  9\n"
     ]
    }
   ],
   "source": [
    "def count(a,b) :\n",
    "    cnt = 0\n",
    "    for i in range(a,b+1) :\n",
    "        x = i\n",
    "        rev = 0\n",
    "        while i!=0 :\n",
    "            r = i % 10\n",
    "            rev = rev * 10 + r\n",
    "            i = i // 10\n",
    "        if rev == x :\n",
    "            cnt = cnt + 1\n",
    "    return cnt\n",
    "\n",
    "C=count(1,10)\n",
    "print(\"Count = \",C)\n",
    "C=count(11,100)\n",
    "print(\"Count = \",C)\n"
   ]
  },
  {
   "cell_type": "code",
   "execution_count": null,
   "metadata": {},
   "outputs": [],
   "source": []
  }
 ],
 "metadata": {
  "kernelspec": {
   "display_name": "Python 3",
   "language": "python",
   "name": "python3"
  },
  "language_info": {
   "codemirror_mode": {
    "name": "ipython",
    "version": 3
   },
   "file_extension": ".py",
   "mimetype": "text/x-python",
   "name": "python",
   "nbconvert_exporter": "python",
   "pygments_lexer": "ipython3",
   "version": "3.7.3"
  }
 },
 "nbformat": 4,
 "nbformat_minor": 2
}
