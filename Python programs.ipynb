{
 "cells": [
  {
   "cell_type": "markdown",
   "metadata": {},
   "source": [
    "## Leap year"
   ]
  },
  {
   "cell_type": "code",
   "execution_count": 20,
   "metadata": {},
   "outputs": [
    {
     "name": "stdout",
     "output_type": "stream",
     "text": [
      "Enter year\n",
      "2015\n",
      "2015 is not a Leap year\n"
     ]
    }
   ],
   "source": [
    "year = int(input(\"Enter year\\n\"))\n",
    "if year%4==0 and year %100 !=0:\n",
    "     print(year, \"is a leap year\")\n",
    "elif year % 100 ==0:\n",
    "     print(year, \"is not a leap year\")\n",
    "elif year % 400 ==0:\n",
    "     print(year, \"is a leap year\")\n",
    "else: \n",
    "     print(year,\"is not a Leap year\")"
   ]
  },
  {
   "cell_type": "markdown",
   "metadata": {},
   "source": [
    "## Weekdays"
   ]
  },
  {
   "cell_type": "code",
   "execution_count": 2,
   "metadata": {},
   "outputs": [
    {
     "name": "stdout",
     "output_type": "stream",
     "text": [
      "Enter week day 5\n",
      "Thursday\n"
     ]
    }
   ],
   "source": [
    "\n",
    "n=int(input(\"Enter week day \"))\n",
    "if n==1:\n",
    "    print(\"Sunday\")\n",
    "elif n==2:\n",
    "    print(\"Monday\")\n",
    "elif n==3:\n",
    "     print(\"Tuesday\")\n",
    "elif n==4:\n",
    "     print(\"Wednesday\")\n",
    "elif n==5:\n",
    "     print(\"Thursday\")\n",
    "elif n==6:\n",
    "     print(\"Friday\")\n",
    "elif n==7:\n",
    "     print(\"Saturday\")\n",
    "else:\n",
    "     print(\"Invalid week number\")"
   ]
  },
  {
   "cell_type": "markdown",
   "metadata": {},
   "source": [
    "## Largest of 3"
   ]
  },
  {
   "cell_type": "code",
   "execution_count": 3,
   "metadata": {},
   "outputs": [
    {
     "name": "stdout",
     "output_type": "stream",
     "text": [
      "Enter num 1:5\n",
      "Enter num 2:8\n",
      "Enter num 3:1\n",
      "8  is largest\n"
     ]
    }
   ],
   "source": [
    "a=int(input(\"Enter num 1:\"))\n",
    "b=int(input(\"Enter num 2:\"))\n",
    "c=int(input(\"Enter num 3:\"))\n",
    "if a>b and a>c:\n",
    "     print(a,\" is largest\")\n",
    "elif b>a and b>c:\n",
    "     print(b,\" is largest\")\n",
    "elif c>a and c>b:\n",
    "     print(c,\" is largest\")"
   ]
  },
  {
   "cell_type": "markdown",
   "metadata": {},
   "source": [
    "## Sum of 1 to n"
   ]
  },
  {
   "cell_type": "code",
   "execution_count": 4,
   "metadata": {},
   "outputs": [
    {
     "name": "stdout",
     "output_type": "stream",
     "text": [
      "enter a number:10\n",
      "55\n"
     ]
    }
   ],
   "source": [
    "n = int(input(\"enter a number:\"))\n",
    "sum=0\n",
    "for i in range(n+1):\n",
    "     sum=sum+i\n",
    "print(sum)"
   ]
  },
  {
   "cell_type": "markdown",
   "metadata": {},
   "source": [
    "## Sum of odd numbers b/w 1 to n"
   ]
  },
  {
   "cell_type": "code",
   "execution_count": 5,
   "metadata": {},
   "outputs": [
    {
     "name": "stdout",
     "output_type": "stream",
     "text": [
      "enter a number:5\n",
      "sum is 9\n"
     ]
    }
   ],
   "source": [
    "n = int(input(\"enter a number:\"))\n",
    "sum=0\n",
    "for i in range(1,n+1,2):\n",
    "     sum=sum+i\n",
    "print(\"sum is\",sum)"
   ]
  },
  {
   "cell_type": "markdown",
   "metadata": {},
   "source": [
    "## Sum and avg"
   ]
  },
  {
   "cell_type": "code",
   "execution_count": 7,
   "metadata": {},
   "outputs": [
    {
     "name": "stdout",
     "output_type": "stream",
     "text": [
      "Enter a number:10\n",
      "sum is  55\n",
      "avg is  5.5\n"
     ]
    }
   ],
   "source": [
    "n = int(input(\"Enter a number:\"))\n",
    "sum=0\n",
    "avg=0\n",
    "for i in range(n+1):\n",
    "     sum=sum+i\n",
    "avg=sum/n\n",
    "print(\"sum is \",sum)\n",
    "print(\"avg is \",avg)"
   ]
  },
  {
   "cell_type": "markdown",
   "metadata": {},
   "source": [
    "## Roots"
   ]
  },
  {
   "cell_type": "markdown",
   "metadata": {},
   "source": [
    "import math\n",
    "a = int(input(\"Enter coeff of x^2:\"))\n",
    "b = int(input(\"Enter coeff of x:\"))\n",
    "c = int(input(\"Enter constant:\"))\n",
    "p=(-b+math.sqrt(b*b-4*a*c))/2*a\n",
    "q=(-b-math.sqrt(b*b-4*a*c))/2*a\n",
    "if b*b-4*a*c >=0:\n",
    "     print(\"the roots are\",p,q)\n",
    "else:\n",
    "     print(\"roots are imaginary\")"
   ]
  },
  {
   "cell_type": "markdown",
   "metadata": {},
   "source": [
    "## Divisors "
   ]
  },
  {
   "cell_type": "code",
   "execution_count": 17,
   "metadata": {},
   "outputs": [
    {
     "name": "stdout",
     "output_type": "stream",
     "text": [
      "Enter a number:15\n",
      "1\n",
      "3\n",
      "5\n",
      "15\n"
     ]
    }
   ],
   "source": [
    "n = int(input(\"Enter a number:\"))\n",
    "for i in range(1,n+1):\n",
    "    if n%i==0:\n",
    "        print(i)\n",
    "        i=i+1\n",
    "    else:\n",
    "        i=i+1"
   ]
  },
  {
   "cell_type": "markdown",
   "metadata": {},
   "source": [
    "## Triangle"
   ]
  },
  {
   "cell_type": "code",
   "execution_count": 18,
   "metadata": {},
   "outputs": [
    {
     "name": "stdout",
     "output_type": "stream",
     "text": [
      "enter side1:1\n",
      "enter side2:2\n",
      "enter side3:3\n",
      "Triangle is valid\n"
     ]
    }
   ],
   "source": [
    "a = int(input(\"enter side1:\"))\n",
    "b = int(input(\"enter side2:\"))\n",
    "c = int(input(\"enter side3:\"))\n",
    "if a+b>c or a+c>b or b+c>a:\n",
    " print(\"Triangle is valid\")\n",
    "else:\n",
    " print(\"Triangle is not valid\")"
   ]
  },
  {
   "cell_type": "markdown",
   "metadata": {},
   "source": [
    "## 'C to 'F"
   ]
  },
  {
   "cell_type": "code",
   "execution_count": 22,
   "metadata": {},
   "outputs": [
    {
     "name": "stdout",
     "output_type": "stream",
     "text": [
      "Enter Celsius value:10\n",
      "50.0 degrees F\n"
     ]
    }
   ],
   "source": [
    "c = int(input(\"Enter Celsius value:\"))\n",
    "f = 9/5 * c +32\n",
    "print(f,\"degrees F\")"
   ]
  },
  {
   "cell_type": "code",
   "execution_count": null,
   "metadata": {},
   "outputs": [],
   "source": []
  }
 ],
 "metadata": {
  "kernelspec": {
   "display_name": "Python 3",
   "language": "python",
   "name": "python3"
  },
  "language_info": {
   "codemirror_mode": {
    "name": "ipython",
    "version": 3
   },
   "file_extension": ".py",
   "mimetype": "text/x-python",
   "name": "python",
   "nbconvert_exporter": "python",
   "pygments_lexer": "ipython3",
   "version": "3.7.3"
  }
 },
 "nbformat": 4,
 "nbformat_minor": 2
}
