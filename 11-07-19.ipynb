{
 "cells": [
  {
   "cell_type": "markdown",
   "metadata": {},
   "source": [
    "### standard libraries\n",
    "- file i/o\n",
    "- regular expression\n",
    "- datetime\n",
    "- math(numerical and mathametical)\n"
   ]
  },
  {
   "cell_type": "markdown",
   "metadata": {},
   "source": [
    "### File Handling in Python\n",
    "- File :- Document contaning information resides on the permanent storage\n",
    "- Different types of files :- txt,doc,pdf,csv and etc..\n",
    "- Input -- Keyboard\n",
    "- Output -- File\n",
    "### Modes of the File I/P\n",
    "- 'w' -- This mode is used to file writing\n",
    "\n",
    "-- If the file is not present first it creates the file and write some date to it\n"
   ]
  },
  {
   "cell_type": "code",
   "execution_count": 8,
   "metadata": {},
   "outputs": [
    {
     "name": "stdout",
     "output_type": "stream",
     "text": [
      "file is created and data has written\n"
     ]
    }
   ],
   "source": [
    "# Function to create a file and write to the file\n",
    "def createfile(filename):\n",
    "    f = open(filename,'w')\n",
    "    for i in range(10):\n",
    "        f.write('this is %d line \\n' % i )\n",
    "    print(\"file is created and data has written\")\n",
    "    return\n",
    "createfile('file1.txt')"
   ]
  },
  {
   "cell_type": "code",
   "execution_count": 4,
   "metadata": {},
   "outputs": [
    {
     "name": "stdout",
     "output_type": "stream",
     "text": [
      " Volume in drive C is Windows\n",
      " Volume Serial Number is C268-0736\n",
      "\n",
      " Directory of C:\\Users\\Rohith\\Python\n",
      "\n",
      "11-07-2019  09:37    <DIR>          .\n",
      "11-07-2019  09:37    <DIR>          ..\n",
      "11-07-2019  09:25    <DIR>          .ipynb_checkpoints\n",
      "05-07-2019  15:52             9,531 05-07-19.ipynb\n",
      "08-07-2019  09:16             8,019 06-07-19.ipynb\n",
      "08-07-2019  16:42            11,528 08-07-19.ipynb\n",
      "09-07-2019  17:06             3,178 09-07-19 assignment.ipynb\n",
      "09-07-2019  16:40            15,102 09-07-19.ipynb\n",
      "11-07-2019  09:26            11,366 10-07-19 assignment.ipynb\n",
      "10-07-2019  16:01            17,286 10-07-19.ipynb\n",
      "11-07-2019  09:37             2,716 11-07-19.ipynb\n",
      "09-07-2019  09:15            17,397 8_7_19.ipynb\n",
      "11-07-2019  09:35               140 file1.txt\n",
      "05-07-2019  19:58             6,633 Python programs.ipynb\n",
      "              11 File(s)        102,896 bytes\n",
      "               3 Dir(s)  288,235,143,168 bytes free\n"
     ]
    }
   ],
   "source": [
    "ls"
   ]
  },
  {
   "cell_type": "code",
   "execution_count": 9,
   "metadata": {},
   "outputs": [
    {
     "name": "stdout",
     "output_type": "stream",
     "text": [
      "file is created and data has written\n"
     ]
    }
   ],
   "source": [
    "def createfile(filename):\n",
    "    f = open(filename,'w')\n",
    "    f.write('Testing...\\n')\n",
    "    print(\"file is created and data has written\")\n",
    "    return\n",
    "createfile('file1.txt') "
   ]
  },
  {
   "cell_type": "code",
   "execution_count": 10,
   "metadata": {},
   "outputs": [
    {
     "name": "stdout",
     "output_type": "stream",
     "text": [
      "file created\n"
     ]
    }
   ],
   "source": [
    "def appenddata(filename):\n",
    "    f=open(filename,'a')\n",
    "    for i in range(10):\n",
    "        f.write(\"this is %d line\\n\" % i)\n",
    "    print(\"file created\")\n",
    "    return\n",
    "appenddata('file2.txt')"
   ]
  },
  {
   "cell_type": "code",
   "execution_count": 11,
   "metadata": {},
   "outputs": [
    {
     "name": "stdout",
     "output_type": "stream",
     "text": [
      "File created\n"
     ]
    }
   ],
   "source": [
    "def appenddata(filename):\n",
    "    f=open(filename,'a')\n",
    "    f.write(\"New line 1\\n\")\n",
    "    f.write(\"New line 2\\n\")\n",
    "    print(\"File created\")\n",
    "    f.close()\n",
    "    return\n",
    "appenddata('file2.txt')"
   ]
  },
  {
   "cell_type": "code",
   "execution_count": 12,
   "metadata": {},
   "outputs": [
    {
     "name": "stdout",
     "output_type": "stream",
     "text": [
      "this is 0 line\n",
      "this is 1 line\n",
      "this is 2 line\n",
      "this is 3 line\n",
      "this is 4 line\n",
      "this is 5 line\n",
      "this is 6 line\n",
      "this is 7 line\n",
      "this is 8 line\n",
      "this is 9 line\n",
      "New line 1\n",
      "New line 2\n",
      "\n"
     ]
    }
   ],
   "source": [
    "# function to read data\n",
    "def readfile(filename):\n",
    "    f=open(filename,'r')\n",
    "    if f.mode=='r':\n",
    "        x=f.read()\n",
    "        print(x)\n",
    "    f.close()\n",
    "    return\n",
    "readfile('file2.txt')"
   ]
  },
  {
   "cell_type": "code",
   "execution_count": 17,
   "metadata": {},
   "outputs": [
    {
     "name": "stdout",
     "output_type": "stream",
     "text": [
      "Enter the file namedata.txt\n",
      "Enter the mode of the filer\n",
      "Data to the file\n"
     ]
    }
   ],
   "source": [
    "def readfile2(filename,mode):\n",
    "    with open(filename,mode) as f:\n",
    "        if f.mode=='r':\n",
    "            data=f.read()\n",
    "            print(data)\n",
    "        elif f.mode=='a':\n",
    "            f.write('Data to the file')\n",
    "            print('the data successfully written')\n",
    "    f.close()\n",
    "    return\n",
    "filename=input('Enter the file name')\n",
    "mode=input('Enter the mode of the file')\n",
    "readfile2(filename,mode)"
   ]
  },
  {
   "cell_type": "code",
   "execution_count": 19,
   "metadata": {},
   "outputs": [
    {
     "name": "stdout",
     "output_type": "stream",
     "text": [
      "Enter the file name:file2.txt\n",
      "Enter the word:this\n"
     ]
    },
    {
     "data": {
      "text/plain": [
       "10"
      ]
     },
     "execution_count": 19,
     "metadata": {},
     "output_type": "execute_result"
    }
   ],
   "source": [
    "#Word Count Program\n",
    "def wordCount(filename,word):\n",
    "    with open(filename,'r') as f:\n",
    "        if f.mode == 'r':\n",
    "            x = f.read()#x in sting --if x is converted to list list.count(word)\n",
    "            li = x.split()#it splits the string with with spaces\n",
    "        cnt = li.count(word)\n",
    "        return cnt\n",
    "filename = input(\"Enter the file name:\")\n",
    "word = input(\"Enter the word:\")#which word count you need\n",
    "wordCount(filename,word)\n",
    "\n"
   ]
  },
  {
   "cell_type": "code",
   "execution_count": 20,
   "metadata": {},
   "outputs": [
    {
     "name": "stdout",
     "output_type": "stream",
     "text": [
      "Enter the filename:file2.txt\n"
     ]
    },
    {
     "data": {
      "text/plain": [
       "172"
      ]
     },
     "execution_count": 20,
     "metadata": {},
     "output_type": "execute_result"
    }
   ],
   "source": [
    "# character count from the given file\n",
    "def charcount(filename):\n",
    "    with open(filename,'r') as f:\n",
    "        if f.mode=='r':\n",
    "            x=f.read()\n",
    "            li=list(x)\n",
    "    return len(li)\n",
    "filename=input('Enter the filename:')\n",
    "charcount(filename)"
   ]
  },
  {
   "cell_type": "code",
   "execution_count": 25,
   "metadata": {},
   "outputs": [
    {
     "name": "stdout",
     "output_type": "stream",
     "text": [
      "Enter the filename:file2.txt\n"
     ]
    },
    {
     "data": {
      "text/plain": [
       "12"
      ]
     },
     "execution_count": 25,
     "metadata": {},
     "output_type": "execute_result"
    }
   ],
   "source": [
    "# function to find the no. of lines in input file\n",
    "# input:filename(file2.txt)\n",
    "# output:no of lines (12)\n",
    "def linecount(filename):\n",
    "    with open(filename,'r') as f:\n",
    "        if f.mode=='r':\n",
    "            x=f.read()\n",
    "            li=x.split(\"\\n\")\n",
    "    return len(li)\n",
    "filename=input('Enter the filename:')\n",
    "linecount(filename)"
   ]
  },
  {
   "cell_type": "code",
   "execution_count": 28,
   "metadata": {},
   "outputs": [
    {
     "name": "stdout",
     "output_type": "stream",
     "text": [
      "Enter the filename:file2.txt\n"
     ]
    },
    {
     "data": {
      "text/plain": [
       "'Upper Case=2,Lower Case=112'"
      ]
     },
     "execution_count": 28,
     "metadata": {},
     "output_type": "execute_result"
    }
   ],
   "source": [
    "# Function to print upper and lower characters\n",
    "def casecount(filename):\n",
    "    cntu=0\n",
    "    cntl=0\n",
    "    with open(filename,'r') as f:\n",
    "        if f.mode=='r':\n",
    "            x=f.read()\n",
    "            li=list(x)\n",
    "    for i in li:\n",
    "        if i.isupper():\n",
    "            cntu+=1\n",
    "        elif i.islower():\n",
    "            cntl+=1\n",
    "    output='Upper Case={0},Lower Case={1}'.format(cntu,cntl)\n",
    "    return output\n",
    "filename=input('Enter the filename:')\n",
    "casecount(filename)"
   ]
  },
  {
   "cell_type": "markdown",
   "metadata": {},
   "source": [
    "## math,random,os\n",
    "* os package it contains the certain methods which work with OS"
   ]
  },
  {
   "cell_type": "markdown",
   "metadata": {},
   "source": [
    "cd .."
   ]
  },
  {
   "cell_type": "code",
   "execution_count": 32,
   "metadata": {},
   "outputs": [
    {
     "name": "stdout",
     "output_type": "stream",
     "text": [
      " Volume in drive C is Windows\n",
      " Volume Serial Number is C268-0736\n",
      "\n",
      " Directory of C:\\Users\\Rohith\\Python\n",
      "\n",
      "11-07-2019  14:07    <DIR>          .\n",
      "11-07-2019  14:07    <DIR>          ..\n",
      "11-07-2019  09:25    <DIR>          .ipynb_checkpoints\n",
      "05-07-2019  15:52             9,531 05-07-19.ipynb\n",
      "08-07-2019  09:16             8,019 06-07-19.ipynb\n",
      "08-07-2019  16:42            11,528 08-07-19.ipynb\n",
      "09-07-2019  17:06             3,178 09-07-19 assignment.ipynb\n",
      "09-07-2019  16:40            15,102 09-07-19.ipynb\n",
      "11-07-2019  10:00            11,466 10-07-19 assignment.ipynb\n",
      "10-07-2019  16:01            17,286 10-07-19.ipynb\n",
      "11-07-2019  14:07            11,745 11-07-19.ipynb\n",
      "09-07-2019  09:15            17,397 8_7_19.ipynb\n",
      "11-07-2019  10:25                16 data.txt\n",
      "11-07-2019  09:53                12 file1.txt\n",
      "11-07-2019  11:59               182 file2.txt\n",
      "05-07-2019  19:58             6,633 Python programs.ipynb\n",
      "              13 File(s)        112,095 bytes\n",
      "               3 Dir(s)  288,714,731,520 bytes free\n"
     ]
    }
   ],
   "source": [
    "ls"
   ]
  },
  {
   "cell_type": "code",
   "execution_count": 33,
   "metadata": {},
   "outputs": [
    {
     "name": "stdout",
     "output_type": "stream",
     "text": [
      "C:\\Users\\Rohith\n"
     ]
    }
   ],
   "source": [
    "cd .."
   ]
  },
  {
   "cell_type": "code",
   "execution_count": 34,
   "metadata": {},
   "outputs": [
    {
     "name": "stdout",
     "output_type": "stream",
     "text": [
      "C:\\Users\\Rohith\\Desktop\\Problemsolvingandprograming\\Git\n"
     ]
    }
   ],
   "source": [
    "cd Desktop/Problemsolvingandprograming/Git"
   ]
  },
  {
   "cell_type": "code",
   "execution_count": 2,
   "metadata": {},
   "outputs": [
    {
     "name": "stdout",
     "output_type": "stream",
     "text": [
      " Volume in drive C is Windows\n",
      " Volume Serial Number is C268-0736\n",
      "\n",
      " Directory of C:\\Users\\Rohith\\Python\n",
      "\n",
      "11-07-2019  14:19    <DIR>          .\n",
      "11-07-2019  14:19    <DIR>          ..\n",
      "11-07-2019  09:25    <DIR>          .ipynb_checkpoints\n",
      "05-07-2019  15:52             9,531 05-07-19.ipynb\n",
      "08-07-2019  09:16             8,019 06-07-19.ipynb\n",
      "08-07-2019  16:42            11,528 08-07-19.ipynb\n",
      "09-07-2019  17:06             3,178 09-07-19 assignment.ipynb\n",
      "09-07-2019  16:40            15,102 09-07-19.ipynb\n",
      "11-07-2019  10:00            11,466 10-07-19 assignment.ipynb\n",
      "10-07-2019  16:01            17,286 10-07-19.ipynb\n",
      "11-07-2019  14:19            13,905 11-07-19.ipynb\n",
      "09-07-2019  09:15            17,397 8_7_19.ipynb\n",
      "11-07-2019  10:25                16 data.txt\n",
      "11-07-2019  09:53                12 file1.txt\n",
      "11-07-2019  11:59               182 file2.txt\n",
      "05-07-2019  19:58             6,633 Python programs.ipynb\n",
      "              13 File(s)        114,255 bytes\n",
      "               3 Dir(s)  288,714,780,672 bytes free\n"
     ]
    }
   ],
   "source": [
    "ls"
   ]
  },
  {
   "cell_type": "code",
   "execution_count": 4,
   "metadata": {},
   "outputs": [
    {
     "name": "stdout",
     "output_type": "stream",
     "text": [
      "C:\\Users\\Rohith\n"
     ]
    }
   ],
   "source": [
    "cd .."
   ]
  },
  {
   "cell_type": "code",
   "execution_count": 5,
   "metadata": {},
   "outputs": [
    {
     "name": "stdout",
     "output_type": "stream",
     "text": [
      "C:\\Users\\Rohith\\Desktop\\Problemsolvingandprograming\\Git\n"
     ]
    }
   ],
   "source": [
    "cd Desktop/Problemsolvingandprograming/Git"
   ]
  },
  {
   "cell_type": "code",
   "execution_count": 4,
   "metadata": {},
   "outputs": [
    {
     "name": "stdout",
     "output_type": "stream",
     "text": [
      "C:\\Users\\Rohith\n"
     ]
    }
   ],
   "source": [
    "cd .."
   ]
  },
  {
   "cell_type": "code",
   "execution_count": 5,
   "metadata": {},
   "outputs": [
    {
     "name": "stdout",
     "output_type": "stream",
     "text": [
      "C:\\Users\\Rohith\\Desktop\\Problemsolvingandprograming\\Git\n"
     ]
    }
   ],
   "source": [
    "cd Desktop/Problemsolvingandprograming/Git"
   ]
  },
  {
   "cell_type": "code",
   "execution_count": 6,
   "metadata": {},
   "outputs": [
    {
     "name": "stdout",
     "output_type": "stream",
     "text": [
      " Volume in drive C is Windows\n",
      " Volume Serial Number is C268-0736\n",
      "\n",
      " Directory of C:\\Users\\Rohith\\Desktop\\Problemsolvingandprograming\\Git\n",
      "\n",
      "09-07-2019  10:39    <DIR>          .\n",
      "09-07-2019  10:39    <DIR>          ..\n",
      "11-07-2019  10:03    <DIR>          Gitam-python\n",
      "               0 File(s)              0 bytes\n",
      "               3 Dir(s)  288,714,350,592 bytes free\n"
     ]
    }
   ],
   "source": [
    "ls"
   ]
  },
  {
   "cell_type": "code",
   "execution_count": 8,
   "metadata": {},
   "outputs": [
    {
     "name": "stdout",
     "output_type": "stream",
     "text": [
      "C:\\Users\\Rohith\\Desktop\\Problemsolvingandprograming\n"
     ]
    }
   ],
   "source": [
    "cd .."
   ]
  },
  {
   "cell_type": "code",
   "execution_count": 9,
   "metadata": {},
   "outputs": [
    {
     "name": "stdout",
     "output_type": "stream",
     "text": [
      " Volume in drive C is Windows\n",
      " Volume Serial Number is C268-0736\n",
      "\n",
      " Directory of C:\\Users\\Rohith\\Desktop\\Problemsolvingandprograming\n",
      "\n",
      "04-07-2019  10:12    <DIR>          .\n",
      "04-07-2019  10:12    <DIR>          ..\n",
      "09-07-2019  10:39    <DIR>          Git\n",
      "               0 File(s)              0 bytes\n",
      "               3 Dir(s)  288,714,285,056 bytes free\n"
     ]
    }
   ],
   "source": [
    "ls"
   ]
  },
  {
   "cell_type": "markdown",
   "metadata": {},
   "source": [
    "## Listing all files in a directory"
   ]
  },
  {
   "cell_type": "code",
   "execution_count": 3,
   "metadata": {},
   "outputs": [
    {
     "ename": "FileNotFoundError",
     "evalue": "[WinError 3] The system cannot find the path specified: 'Python/'",
     "output_type": "error",
     "traceback": [
      "\u001b[1;31m---------------------------------------------------------------------------\u001b[0m",
      "\u001b[1;31mFileNotFoundError\u001b[0m                         Traceback (most recent call last)",
      "\u001b[1;32m<ipython-input-3-17d697275876>\u001b[0m in \u001b[0;36m<module>\u001b[1;34m\u001b[0m\n\u001b[0;32m      1\u001b[0m \u001b[1;32mimport\u001b[0m \u001b[0mos\u001b[0m\u001b[1;33m\u001b[0m\u001b[1;33m\u001b[0m\u001b[0m\n\u001b[0;32m      2\u001b[0m \u001b[0mdirPath\u001b[0m\u001b[1;33m=\u001b[0m\u001b[1;34m\"Python/\"\u001b[0m\u001b[1;33m\u001b[0m\u001b[1;33m\u001b[0m\u001b[0m\n\u001b[1;32m----> 3\u001b[1;33m \u001b[1;32mfor\u001b[0m \u001b[0mi\u001b[0m \u001b[1;32min\u001b[0m \u001b[0mos\u001b[0m\u001b[1;33m.\u001b[0m\u001b[0mlistdir\u001b[0m\u001b[1;33m(\u001b[0m\u001b[0mdirPath\u001b[0m\u001b[1;33m)\u001b[0m\u001b[1;33m:\u001b[0m\u001b[1;33m\u001b[0m\u001b[1;33m\u001b[0m\u001b[0m\n\u001b[0m\u001b[0;32m      4\u001b[0m     \u001b[1;32mif\u001b[0m \u001b[0mos\u001b[0m\u001b[1;33m.\u001b[0m\u001b[0mpath\u001b[0m\u001b[1;33m.\u001b[0m\u001b[0misfile\u001b[0m\u001b[1;33m(\u001b[0m\u001b[0mos\u001b[0m\u001b[1;33m.\u001b[0m\u001b[0mpath\u001b[0m\u001b[1;33m.\u001b[0m\u001b[0mjoin\u001b[0m\u001b[1;33m(\u001b[0m\u001b[0mdirPath\u001b[0m\u001b[1;33m,\u001b[0m\u001b[0mi\u001b[0m\u001b[1;33m)\u001b[0m\u001b[1;33m)\u001b[0m\u001b[1;33m:\u001b[0m\u001b[1;33m\u001b[0m\u001b[1;33m\u001b[0m\u001b[0m\n\u001b[0;32m      5\u001b[0m         \u001b[0mprint\u001b[0m\u001b[1;33m(\u001b[0m\u001b[0mi\u001b[0m\u001b[1;33m)\u001b[0m\u001b[1;33m\u001b[0m\u001b[1;33m\u001b[0m\u001b[0m\n",
      "\u001b[1;31mFileNotFoundError\u001b[0m: [WinError 3] The system cannot find the path specified: 'Python/'"
     ]
    }
   ],
   "source": [
    "import os\n",
    "dirPath=\"Python/\"\n",
    "for i in os.listdir(dirPath):\n",
    "    if os.path.isfile(os.path.join(dirPath,i)):\n",
    "        print(i)"
   ]
  },
  {
   "cell_type": "code",
   "execution_count": 2,
   "metadata": {},
   "outputs": [
    {
     "name": "stdout",
     "output_type": "stream",
     "text": [
      " Volume in drive C is Windows\n",
      " Volume Serial Number is C268-0736\n",
      "\n",
      " Directory of C:\\Users\\Rohith\\Python\n",
      "\n",
      "11-07-2019  14:31    <DIR>          .\n",
      "11-07-2019  14:31    <DIR>          ..\n",
      "11-07-2019  09:25    <DIR>          .ipynb_checkpoints\n",
      "05-07-2019  15:52             9,531 05-07-19.ipynb\n",
      "08-07-2019  09:16             8,019 06-07-19.ipynb\n",
      "08-07-2019  16:42            11,528 08-07-19.ipynb\n",
      "09-07-2019  17:06             3,178 09-07-19 assignment.ipynb\n",
      "09-07-2019  16:40            15,102 09-07-19.ipynb\n",
      "11-07-2019  10:00            11,466 10-07-19 assignment.ipynb\n",
      "10-07-2019  16:01            17,286 10-07-19.ipynb\n",
      "11-07-2019  14:31            18,706 11-07-19.ipynb\n",
      "09-07-2019  09:15            17,397 8_7_19.ipynb\n",
      "11-07-2019  10:25                16 data.txt\n",
      "11-07-2019  09:53                12 file1.txt\n",
      "11-07-2019  11:59               182 file2.txt\n",
      "05-07-2019  19:58             6,633 Python programs.ipynb\n",
      "              13 File(s)        119,056 bytes\n",
      "               3 Dir(s)  288,713,932,800 bytes free\n"
     ]
    }
   ],
   "source": [
    "ls"
   ]
  },
  {
   "cell_type": "code",
   "execution_count": 5,
   "metadata": {},
   "outputs": [
    {
     "name": "stdout",
     "output_type": "stream",
     "text": [
      " Volume in drive C is Windows\n",
      " Volume Serial Number is C268-0736\n",
      "\n",
      " Directory of C:\\Users\\Rohith\\Python\n",
      "\n",
      "11-07-2019  14:31    <DIR>          .\n",
      "11-07-2019  14:31    <DIR>          ..\n",
      "11-07-2019  09:25    <DIR>          .ipynb_checkpoints\n",
      "05-07-2019  15:52             9,531 05-07-19.ipynb\n",
      "08-07-2019  09:16             8,019 06-07-19.ipynb\n",
      "08-07-2019  16:42            11,528 08-07-19.ipynb\n",
      "09-07-2019  17:06             3,178 09-07-19 assignment.ipynb\n",
      "09-07-2019  16:40            15,102 09-07-19.ipynb\n",
      "11-07-2019  10:00            11,466 10-07-19 assignment.ipynb\n",
      "10-07-2019  16:01            17,286 10-07-19.ipynb\n",
      "11-07-2019  14:31            20,184 11-07-19.ipynb\n",
      "09-07-2019  09:15            17,397 8_7_19.ipynb\n",
      "11-07-2019  10:25                16 data.txt\n",
      "11-07-2019  09:53                12 file1.txt\n",
      "11-07-2019  11:59               182 file2.txt\n",
      "05-07-2019  19:58             6,633 Python programs.ipynb\n",
      "              13 File(s)        120,534 bytes\n",
      "               3 Dir(s)  288,717,361,152 bytes free\n"
     ]
    }
   ],
   "source": [
    "ls"
   ]
  },
  {
   "cell_type": "code",
   "execution_count": 6,
   "metadata": {},
   "outputs": [
    {
     "name": "stdout",
     "output_type": "stream",
     "text": [
      "C:\\Users\\Rohith\n"
     ]
    }
   ],
   "source": [
    "cd .."
   ]
  },
  {
   "cell_type": "code",
   "execution_count": 7,
   "metadata": {},
   "outputs": [
    {
     "name": "stdout",
     "output_type": "stream",
     "text": [
      "05-07-19.ipynb\n",
      "06-07-19.ipynb\n",
      "08-07-19.ipynb\n",
      "09-07-19 assignment.ipynb\n",
      "09-07-19.ipynb\n",
      "10-07-19 assignment.ipynb\n",
      "10-07-19.ipynb\n",
      "11-07-19.ipynb\n",
      "8_7_19.ipynb\n",
      "data.txt\n",
      "file1.txt\n",
      "file2.txt\n",
      "Python programs.ipynb\n"
     ]
    }
   ],
   "source": [
    "import os\n",
    "dirPath=\"Python/\"\n",
    "for i in os.listdir(dirPath):\n",
    "    if os.path.isfile(os.path.join(dirPath,i)):\n",
    "        print(i)"
   ]
  },
  {
   "cell_type": "code",
   "execution_count": 8,
   "metadata": {},
   "outputs": [
    {
     "name": "stdout",
     "output_type": "stream",
     "text": [
      " Volume in drive C is Windows\n",
      " Volume Serial Number is C268-0736\n",
      "\n",
      " Directory of C:\\Users\\Rohith\n",
      "\n",
      "05-07-2019  14:45    <DIR>          .\n",
      "05-07-2019  14:45    <DIR>          ..\n",
      "05-07-2019  11:30    <DIR>          .anaconda\n",
      "05-07-2019  16:40             2,554 .bash_history\n",
      "06-07-2019  09:19    <DIR>          .conda\n",
      "06-07-2019  09:20                43 .condarc\n",
      "05-07-2019  11:40    <DIR>          .ipython\n",
      "05-07-2019  14:45    <DIR>          .jupyter\n",
      "18-06-2019  20:30    <DIR>          3D Objects\n",
      "05-07-2019  10:46    <DIR>          Anaconda3\n",
      "07-06-2019  20:07    <DIR>          ansel\n",
      "18-06-2019  20:30    <DIR>          Contacts\n",
      "07-07-2019  10:58    <DIR>          Desktop\n",
      "03-07-2019  11:54    <DIR>          Documents\n",
      "11-07-2019  10:34    <DIR>          Downloads\n",
      "18-06-2019  20:30    <DIR>          Favorites\n",
      "21-12-2018  17:55    <DIR>          HP\n",
      "18-06-2019  20:30    <DIR>          Links\n",
      "18-06-2019  20:30    <DIR>          Music\n",
      "11-07-2019  07:58    <DIR>          OneDrive\n",
      "18-06-2019  20:30    <DIR>          Pictures\n",
      "11-07-2019  14:33    <DIR>          Python\n",
      "18-06-2019  20:30    <DIR>          Saved Games\n",
      "18-06-2019  20:30    <DIR>          Searches\n",
      "28-06-2019  18:06    <DIR>          Videos\n",
      "               2 File(s)          2,597 bytes\n",
      "              23 Dir(s)  288,717,070,336 bytes free\n"
     ]
    }
   ],
   "source": [
    "ls"
   ]
  },
  {
   "cell_type": "code",
   "execution_count": 9,
   "metadata": {},
   "outputs": [
    {
     "name": "stdout",
     "output_type": "stream",
     "text": [
      ".ipynb_checkpoints\n"
     ]
    }
   ],
   "source": [
    "from pathlib import Path\n",
    "dirPath=Path('Python')\n",
    "for i in dirPath.iterdir():\n",
    "    if i.is_dir():\n",
    "        print(i.name)"
   ]
  },
  {
   "cell_type": "code",
   "execution_count": 12,
   "metadata": {},
   "outputs": [],
   "source": [
    "import os\n",
    "os.mkdir('SingleDirectory1')"
   ]
  },
  {
   "cell_type": "code",
   "execution_count": 13,
   "metadata": {},
   "outputs": [],
   "source": [
    "import pathlib\n",
    "p=pathlib.Path('TestFolder')\n",
    "p.mkdir()"
   ]
  },
  {
   "cell_type": "code",
   "execution_count": 14,
   "metadata": {},
   "outputs": [
    {
     "name": "stdout",
     "output_type": "stream",
     "text": [
      " Volume in drive C is Windows\n",
      " Volume Serial Number is C268-0736\n",
      "\n",
      " Directory of C:\\Users\\Rohith\n",
      "\n",
      "11-07-2019  14:48    <DIR>          .\n",
      "11-07-2019  14:48    <DIR>          ..\n",
      "05-07-2019  11:30    <DIR>          .anaconda\n",
      "05-07-2019  16:40             2,554 .bash_history\n",
      "06-07-2019  09:19    <DIR>          .conda\n",
      "06-07-2019  09:20                43 .condarc\n",
      "05-07-2019  11:40    <DIR>          .ipython\n",
      "05-07-2019  14:45    <DIR>          .jupyter\n",
      "18-06-2019  20:30    <DIR>          3D Objects\n",
      "05-07-2019  10:46    <DIR>          Anaconda3\n",
      "07-06-2019  20:07    <DIR>          ansel\n",
      "18-06-2019  20:30    <DIR>          Contacts\n",
      "07-07-2019  10:58    <DIR>          Desktop\n",
      "03-07-2019  11:54    <DIR>          Documents\n",
      "11-07-2019  10:34    <DIR>          Downloads\n",
      "18-06-2019  20:30    <DIR>          Favorites\n",
      "21-12-2018  17:55    <DIR>          HP\n",
      "18-06-2019  20:30    <DIR>          Links\n",
      "18-06-2019  20:30    <DIR>          Music\n",
      "11-07-2019  07:58    <DIR>          OneDrive\n",
      "18-06-2019  20:30    <DIR>          Pictures\n",
      "11-07-2019  14:47    <DIR>          Python\n",
      "18-06-2019  20:30    <DIR>          Saved Games\n",
      "18-06-2019  20:30    <DIR>          Searches\n",
      "11-07-2019  14:46    <DIR>          SingleDirectory\n",
      "11-07-2019  14:47    <DIR>          SingleDirectory1\n",
      "11-07-2019  14:48    <DIR>          TestFolder\n",
      "28-06-2019  18:06    <DIR>          Videos\n",
      "               2 File(s)          2,597 bytes\n",
      "              26 Dir(s)  288,714,973,184 bytes free\n"
     ]
    }
   ],
   "source": [
    "ls"
   ]
  },
  {
   "cell_type": "code",
   "execution_count": 15,
   "metadata": {},
   "outputs": [],
   "source": [
    "import os\n",
    "os.makedirs('2019/July/11')"
   ]
  },
  {
   "cell_type": "code",
   "execution_count": 16,
   "metadata": {},
   "outputs": [
    {
     "name": "stdout",
     "output_type": "stream",
     "text": [
      " Volume in drive C is Windows\n",
      " Volume Serial Number is C268-0736\n",
      "\n",
      " Directory of C:\\Users\\Rohith\n",
      "\n",
      "11-07-2019  15:02    <DIR>          .\n",
      "11-07-2019  15:02    <DIR>          ..\n",
      "05-07-2019  11:30    <DIR>          .anaconda\n",
      "05-07-2019  16:40             2,554 .bash_history\n",
      "06-07-2019  09:19    <DIR>          .conda\n",
      "06-07-2019  09:20                43 .condarc\n",
      "05-07-2019  11:40    <DIR>          .ipython\n",
      "05-07-2019  14:45    <DIR>          .jupyter\n",
      "11-07-2019  15:02    <DIR>          2019\n",
      "18-06-2019  20:30    <DIR>          3D Objects\n",
      "05-07-2019  10:46    <DIR>          Anaconda3\n",
      "07-06-2019  20:07    <DIR>          ansel\n",
      "18-06-2019  20:30    <DIR>          Contacts\n",
      "07-07-2019  10:58    <DIR>          Desktop\n",
      "03-07-2019  11:54    <DIR>          Documents\n",
      "11-07-2019  10:34    <DIR>          Downloads\n",
      "18-06-2019  20:30    <DIR>          Favorites\n",
      "21-12-2018  17:55    <DIR>          HP\n",
      "18-06-2019  20:30    <DIR>          Links\n",
      "18-06-2019  20:30    <DIR>          Music\n",
      "11-07-2019  07:58    <DIR>          OneDrive\n",
      "18-06-2019  20:30    <DIR>          Pictures\n",
      "11-07-2019  14:49    <DIR>          Python\n",
      "18-06-2019  20:30    <DIR>          Saved Games\n",
      "18-06-2019  20:30    <DIR>          Searches\n",
      "11-07-2019  14:46    <DIR>          SingleDirectory\n",
      "11-07-2019  14:47    <DIR>          SingleDirectory1\n",
      "11-07-2019  14:48    <DIR>          TestFolder\n",
      "28-06-2019  18:06    <DIR>          Videos\n",
      "               2 File(s)          2,597 bytes\n",
      "              27 Dir(s)  288,700,473,344 bytes free\n"
     ]
    }
   ],
   "source": [
    "ls"
   ]
  },
  {
   "cell_type": "markdown",
   "metadata": {},
   "source": [
    "## Filename "
   ]
  },
  {
   "cell_type": "code",
   "execution_count": null,
   "metadata": {},
   "outputs": [],
   "source": []
  },
  {
   "cell_type": "code",
   "execution_count": 18,
   "metadata": {},
   "outputs": [
    {
     "name": "stdout",
     "output_type": "stream",
     "text": [
      "05-07-19.ipynb\n",
      "06-07-19.ipynb\n",
      "08-07-19.ipynb\n",
      "09-07-19 assignment.ipynb\n",
      "09-07-19.ipynb\n",
      "10-07-19 assignment.ipynb\n",
      "10-07-19.ipynb\n",
      "11-07-19.ipynb\n",
      "8_7_19.ipynb\n",
      "Python programs.ipynb\n"
     ]
    }
   ],
   "source": [
    "import os\n",
    "dirPath='Python/'\n",
    "for f_name in os.listdir(dirPath):\n",
    "    if f_name.endswith('.ipynb'):\n",
    "        print(f_name)"
   ]
  },
  {
   "cell_type": "code",
   "execution_count": 19,
   "metadata": {},
   "outputs": [
    {
     "name": "stdout",
     "output_type": "stream",
     "text": [
      "05-07-19.ipynb\n",
      "06-07-19.ipynb\n",
      "08-07-19.ipynb\n",
      "09-07-19 assignment.ipynb\n",
      "09-07-19.ipynb\n"
     ]
    }
   ],
   "source": [
    "import os\n",
    "dirPath='Python/'\n",
    "for f_name in os.listdir(dirPath):\n",
    "    if f_name.startswith('0'):\n",
    "        print(f_name)"
   ]
  },
  {
   "cell_type": "code",
   "execution_count": 21,
   "metadata": {},
   "outputs": [
    {
     "name": "stdout",
     "output_type": "stream",
     "text": [
      " Volume in drive C is Windows\n",
      " Volume Serial Number is C268-0736\n",
      "\n",
      " Directory of C:\\Users\\Rohith\n",
      "\n",
      "11-07-2019  15:02    <DIR>          .\n",
      "11-07-2019  15:02    <DIR>          ..\n",
      "05-07-2019  11:30    <DIR>          .anaconda\n",
      "05-07-2019  16:40             2,554 .bash_history\n",
      "06-07-2019  09:19    <DIR>          .conda\n",
      "06-07-2019  09:20                43 .condarc\n",
      "05-07-2019  11:40    <DIR>          .ipython\n",
      "05-07-2019  14:45    <DIR>          .jupyter\n",
      "11-07-2019  15:02    <DIR>          2019\n",
      "18-06-2019  20:30    <DIR>          3D Objects\n",
      "05-07-2019  10:46    <DIR>          Anaconda3\n",
      "07-06-2019  20:07    <DIR>          ansel\n",
      "18-06-2019  20:30    <DIR>          Contacts\n",
      "07-07-2019  10:58    <DIR>          Desktop\n",
      "03-07-2019  11:54    <DIR>          Documents\n",
      "11-07-2019  10:34    <DIR>          Downloads\n",
      "18-06-2019  20:30    <DIR>          Favorites\n",
      "21-12-2018  17:55    <DIR>          HP\n",
      "18-06-2019  20:30    <DIR>          Links\n",
      "18-06-2019  20:30    <DIR>          Music\n",
      "11-07-2019  07:58    <DIR>          OneDrive\n",
      "18-06-2019  20:30    <DIR>          Pictures\n",
      "11-07-2019  15:19    <DIR>          Python\n",
      "18-06-2019  20:30    <DIR>          Saved Games\n",
      "18-06-2019  20:30    <DIR>          Searches\n",
      "11-07-2019  14:46    <DIR>          SingleDirectory\n",
      "11-07-2019  14:47    <DIR>          SingleDirectory1\n",
      "11-07-2019  14:48    <DIR>          TestFolder\n",
      "28-06-2019  18:06    <DIR>          Videos\n",
      "               2 File(s)          2,597 bytes\n",
      "              27 Dir(s)  288,699,228,160 bytes free\n"
     ]
    }
   ],
   "source": [
    "ls"
   ]
  },
  {
   "cell_type": "code",
   "execution_count": 25,
   "metadata": {},
   "outputs": [
    {
     "name": "stdout",
     "output_type": "stream",
     "text": [
      "C:\\Users\\Rohith\\2019\\July\n"
     ]
    }
   ],
   "source": [
    "cd 2019/July"
   ]
  },
  {
   "cell_type": "markdown",
   "metadata": {},
   "source": [
    "## Deleting files"
   ]
  },
  {
   "cell_type": "code",
   "execution_count": 27,
   "metadata": {},
   "outputs": [
    {
     "ename": "PermissionError",
     "evalue": "[WinError 5] Access is denied: '11'",
     "output_type": "error",
     "traceback": [
      "\u001b[1;31m---------------------------------------------------------------------------\u001b[0m",
      "\u001b[1;31mPermissionError\u001b[0m                           Traceback (most recent call last)",
      "\u001b[1;32m<ipython-input-27-28bf0739b1c3>\u001b[0m in \u001b[0;36m<module>\u001b[1;34m\u001b[0m\n\u001b[0;32m      1\u001b[0m \u001b[1;32mimport\u001b[0m \u001b[0mos\u001b[0m\u001b[1;33m\u001b[0m\u001b[1;33m\u001b[0m\u001b[0m\n\u001b[0;32m      2\u001b[0m \u001b[0mdata_file\u001b[0m\u001b[1;33m=\u001b[0m\u001b[1;34m'11'\u001b[0m\u001b[1;33m\u001b[0m\u001b[1;33m\u001b[0m\u001b[0m\n\u001b[1;32m----> 3\u001b[1;33m \u001b[0mos\u001b[0m\u001b[1;33m.\u001b[0m\u001b[0mremove\u001b[0m\u001b[1;33m(\u001b[0m\u001b[0mdata_file\u001b[0m\u001b[1;33m)\u001b[0m\u001b[1;33m\u001b[0m\u001b[1;33m\u001b[0m\u001b[0m\n\u001b[0m",
      "\u001b[1;31mPermissionError\u001b[0m: [WinError 5] Access is denied: '11'"
     ]
    }
   ],
   "source": [
    "import os\n",
    "data_file='11'\n",
    "os.remove(data_file)"
   ]
  },
  {
   "cell_type": "code",
   "execution_count": null,
   "metadata": {},
   "outputs": [],
   "source": []
  },
  {
   "cell_type": "code",
   "execution_count": null,
   "metadata": {},
   "outputs": [],
   "source": []
  }
 ],
 "metadata": {
  "kernelspec": {
   "display_name": "Python 3",
   "language": "python",
   "name": "python3"
  },
  "language_info": {
   "codemirror_mode": {
    "name": "ipython",
    "version": 3
   },
   "file_extension": ".py",
   "mimetype": "text/x-python",
   "name": "python",
   "nbconvert_exporter": "python",
   "pygments_lexer": "ipython3",
   "version": "3.7.3"
  }
 },
 "nbformat": 4,
 "nbformat_minor": 2
}
