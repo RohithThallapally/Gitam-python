{
 "cells": [
  {
   "cell_type": "markdown",
   "metadata": {},
   "source": [
    "### 1. Draw a circle, In that half circle has to have Green color and another half required to fill with orange color using Turtle Package.¶"
   ]
  },
  {
   "cell_type": "code",
   "execution_count": 1,
   "metadata": {},
   "outputs": [],
   "source": [
    "from turtle import *\n",
    "fillcolor('green')\n",
    "begin_fill()\n",
    "left(90)\n",
    "for x in range(180):\n",
    "    forward(1)\n",
    "    right(1)\n",
    "right(90)\n",
    "forward(115)\n",
    "end_fill()\n",
    "\n",
    "fillcolor('orange')\n",
    "begin_fill()\n",
    "left(90)\n",
    "for x in range(180):\n",
    "    forward(1)\n",
    "    left(1)\n",
    "end_fill()"
   ]
  },
  {
   "cell_type": "markdown",
   "metadata": {},
   "source": [
    "### 2. Draw a Spirling Square with Pen color as 'Red'."
   ]
  },
  {
   "cell_type": "code",
   "execution_count": null,
   "metadata": {},
   "outputs": [],
   "source": [
    "# Turtle Graphics Q-1\n",
    "\n",
    "import turtle as b\n",
    "b1 = b.Turtle()\n",
    "b1.pencolor('red') \n",
    "for x in range(250):\n",
    "        b1.forward(x)\n",
    "        b1.left(91)\n",
    "b.done()"
   ]
  },
  {
   "cell_type": "code",
   "execution_count": null,
   "metadata": {},
   "outputs": [],
   "source": []
  }
 ],
 "metadata": {
  "kernelspec": {
   "display_name": "Python 3",
   "language": "python",
   "name": "python3"
  },
  "language_info": {
   "codemirror_mode": {
    "name": "ipython",
    "version": 3
   },
   "file_extension": ".py",
   "mimetype": "text/x-python",
   "name": "python",
   "nbconvert_exporter": "python",
   "pygments_lexer": "ipython3",
   "version": "3.7.3"
  }
 },
 "nbformat": 4,
 "nbformat_minor": 2
}
