{
 "cells": [
  {
   "cell_type": "code",
   "execution_count": 1,
   "metadata": {},
   "outputs": [
    {
     "name": "stdout",
     "output_type": "stream",
     "text": [
      "Enter no.1 5\n",
      "Enter no.2 8\n",
      "Enter no.3 2\n",
      "8  is the large number\n"
     ]
    }
   ],
   "source": [
    "a=int(input(\"Enter no.1 \"))\n",
    "b=int(input(\"Enter no.2 \"))\n",
    "c=int(input(\"Enter no.3 \"))\n",
    "if a>b and a>c:\n",
    "    print(a,\" is the large number\")\n",
    "elif b>a and b>c:\n",
    "    print(b,\" is the large number\")\n",
    "else:\n",
    "    print(c,\" is the large number\")"
   ]
  },
  {
   "cell_type": "code",
   "execution_count": 2,
   "metadata": {},
   "outputs": [
    {
     "name": "stdout",
     "output_type": "stream",
     "text": [
      "Enter year2015\n",
      "Not a leap year\n"
     ]
    }
   ],
   "source": [
    "year=int(input(\"Enter year\"))\n",
    "if year%400==0 or (year%100!=0 and year%4==0):\n",
    "    print(\"Leap year\")\n",
    "else:\n",
    "    print(\"Not a leap year\")"
   ]
  },
  {
   "cell_type": "markdown",
   "metadata": {},
   "source": [
    "### Iteration\n",
    "- while\n",
    "- for"
   ]
  },
  {
   "cell_type": "code",
   "execution_count": 3,
   "metadata": {},
   "outputs": [
    {
     "name": "stdout",
     "output_type": "stream",
     "text": [
      "Rohith\n",
      "Rohith\n",
      "Rohith\n",
      "Rohith\n",
      "Rohith\n",
      "Rohith\n",
      "Rohith\n",
      "Rohith\n"
     ]
    }
   ],
   "source": [
    "x=0\n",
    "while x<8:\n",
    "    print(\"Rohith\")\n",
    "    x=x+1"
   ]
  },
  {
   "cell_type": "code",
   "execution_count": 4,
   "metadata": {},
   "outputs": [
    {
     "name": "stdout",
     "output_type": "stream",
     "text": [
      "Enter n 10\n",
      "1\n",
      "2\n",
      "3\n",
      "4\n",
      "5\n",
      "6\n",
      "7\n",
      "8\n",
      "9\n",
      "10\n"
     ]
    }
   ],
   "source": [
    "i=1\n",
    "n=int(input(\"Enter n \"))\n",
    "while i<n+1:\n",
    "    print(i)\n",
    "    i=i+1"
   ]
  },
  {
   "cell_type": "code",
   "execution_count": 9,
   "metadata": {},
   "outputs": [
    {
     "name": "stdout",
     "output_type": "stream",
     "text": [
      "Enter n6\n",
      "Even no.are \n",
      "0\n",
      "2\n",
      "4\n",
      "6\n",
      "12\n"
     ]
    }
   ],
   "source": [
    "i=0\n",
    "sum=0\n",
    "n=int(input(\"Enter n\"))\n",
    "print(\"Even no.are \")\n",
    "while i<=n:\n",
    "    print(i)\n",
    "    sum=sum+i\n",
    "    i=i+2\n",
    "print(sum)"
   ]
  },
  {
   "cell_type": "code",
   "execution_count": 10,
   "metadata": {},
   "outputs": [
    {
     "name": "stdout",
     "output_type": "stream",
     "text": [
      "Enter n 123\n",
      "3 2 1 "
     ]
    }
   ],
   "source": [
    "n=int(input(\"Enter n \"))\n",
    "p=n\n",
    "while p>0:\n",
    "    print(p%10, end= \" \")\n",
    "    p=p//10"
   ]
  },
  {
   "cell_type": "code",
   "execution_count": 12,
   "metadata": {},
   "outputs": [
    {
     "name": "stdout",
     "output_type": "stream",
     "text": [
      "Enter n 1234\n",
      "6\n"
     ]
    }
   ],
   "source": [
    "sum=0\n",
    "n=int(input(\"Enter n \"))\n",
    "p=n\n",
    "while p>0:\n",
    "    if (p%10)%2==0:\n",
    "        sum=sum+(p%10)\n",
    "    p=p//10\n",
    "print(sum)"
   ]
  },
  {
   "cell_type": "code",
   "execution_count": 1,
   "metadata": {},
   "outputs": [
    {
     "name": "stdout",
     "output_type": "stream",
     "text": [
      "Enter a number : 19528\n",
      "9\n"
     ]
    }
   ],
   "source": [
    "\n",
    "# Read a number -- 19528\n",
    "# Print the large digit print the  number\n",
    "def printLarge(n):\n",
    "    # Program to achieve the given task\n",
    "    large = 0\n",
    "    while n > 0:\n",
    "        r = n % 10\n",
    "        if r > large:\n",
    "            large = r\n",
    "        n //= 10\n",
    "    print(large)\n",
    "\n",
    "def main() :\n",
    "    n = int(input(\"Enter a number : \"))\n",
    "    printLarge(n)\n",
    "\n",
    "if __name__ == \"__main__\":\n",
    "    main()"
   ]
  },
  {
   "cell_type": "code",
   "execution_count": 2,
   "metadata": {},
   "outputs": [
    {
     "name": "stdout",
     "output_type": "stream",
     "text": [
      "Enter a number : 121\n",
      "'Yes'\n"
     ]
    }
   ],
   "source": [
    "# Given number is palindrome or not \n",
    "# input \n",
    "# 123 -- 321 -- No\n",
    "# 121 -- 121 -- Yes\n",
    "def isPalindrome(n):\n",
    "    rev = 0\n",
    "    while n > 0 : \n",
    "        r = n % 10\n",
    "        rev = rev * 10 + r\n",
    "        n //= 10\n",
    "    return rev\n",
    "\n",
    "def main():\n",
    "    n = int(input(\"Enter a number : \"))\n",
    "    temp= isPalindrome(n)\n",
    "    if (int(temp)==n):\n",
    "        print(\"'Yes'\")\n",
    "    else :\n",
    "        print(\"'No'\")\n",
    "\n",
    "if __name__ == \"__main__\" :\n",
    "    main()"
   ]
  },
  {
   "cell_type": "code",
   "execution_count": 3,
   "metadata": {},
   "outputs": [
    {
     "name": "stdout",
     "output_type": "stream",
     "text": [
      "1 2 3 4 5 6 7 8 9 10 "
     ]
    }
   ],
   "source": [
    "# Function to print N natural numbers with for loop\n",
    "def printNaturalNumbers(n) :\n",
    "    for x in range (1,n+1):\n",
    "        print(x,end=\" \")\n",
    "printNaturalNumbers(10)"
   ]
  },
  {
   "cell_type": "code",
   "execution_count": 4,
   "metadata": {},
   "outputs": [
    {
     "name": "stdout",
     "output_type": "stream",
     "text": [
      "11 12 13 14 15 16 17 18 19 20 21 22 23 24 25 "
     ]
    }
   ],
   "source": [
    "\n",
    "# Function to print the numbers between two limits \n",
    "# input : 11, 25\n",
    "# Output : 11, 12, 13, .............., 25\n",
    "def printSeries (lb,ub):\n",
    "    for x in range (lb,ub+1):\n",
    "        print(x,end= \" \")\n",
    "    return\n",
    "printSeries(11,25)"
   ]
  },
  {
   "cell_type": "code",
   "execution_count": 5,
   "metadata": {},
   "outputs": [
    {
     "name": "stdout",
     "output_type": "stream",
     "text": [
      "100 104 108 112 116 120 124 128 132 136 140 144 148 "
     ]
    }
   ],
   "source": [
    "# Function to print alternate numbers\n",
    "# [500,520] -- 500 502 504 506 508 .... 520\n",
    "# [100,150] -- 100 104 108 112 116 .... \n",
    "def alternateNumbers(lb,ub):\n",
    "    for x in range (lb,ub+1,4) :\n",
    "        print(x,end = \" \")\n",
    "    return\n",
    "alternateNumbers(100,150)"
   ]
  },
  {
   "cell_type": "code",
   "execution_count": 6,
   "metadata": {},
   "outputs": [
    {
     "name": "stdout",
     "output_type": "stream",
     "text": [
      "10 9 8 7 6 5 4 3 2 1 "
     ]
    }
   ],
   "source": [
    "# Function to print the series in reverse\n",
    "# Input -- 1,10...\n",
    "# Output -- 10 9 8 7 ...... 1\n",
    "def reverseRange(start, end) : \n",
    "    for x in range (end, start-1,-1):\n",
    "        print(x,end = \" \")\n",
    "    return\n",
    "reverseRange(1,10)"
   ]
  },
  {
   "cell_type": "markdown",
   "metadata": {},
   "source": [
    "\n",
    "## <img src = '' />\n",
    "## All Jupyter NoteBook in this Format\n",
    "* Problem Name\n",
    "* Algorithm\n",
    "* Sample Input and Oputput\n",
    "* Flowchart\n",
    "* Python Code"
   ]
  },
  {
   "cell_type": "code",
   "execution_count": null,
   "metadata": {},
   "outputs": [],
   "source": []
  }
 ],
 "metadata": {
  "kernelspec": {
   "display_name": "Python 3",
   "language": "python",
   "name": "python3"
  },
  "language_info": {
   "codemirror_mode": {
    "name": "ipython",
    "version": 3
   },
   "file_extension": ".py",
   "mimetype": "text/x-python",
   "name": "python",
   "nbconvert_exporter": "python",
   "pygments_lexer": "ipython3",
   "version": "3.7.3"
  }
 },
 "nbformat": 4,
 "nbformat_minor": 2
}
